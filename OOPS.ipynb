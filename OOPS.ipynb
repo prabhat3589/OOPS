{
  "nbformat": 4,
  "nbformat_minor": 0,
  "metadata": {
    "colab": {
      "provenance": []
    },
    "kernelspec": {
      "name": "python3",
      "display_name": "Python 3"
    },
    "language_info": {
      "name": "python"
    }
  },
  "cells": [
    {
      "cell_type": "markdown",
      "source": [
        "# **OOPS THEORY QUESTION**"
      ],
      "metadata": {
        "id": "i-zZYWkqoQCi"
      }
    },
    {
      "cell_type": "markdown",
      "source": [
        "1. What is Object-Oriented Programming (OOP)?\n",
        "-> Object-oriented programming (OOP) is a programming paradigm that organizes software design around data, or objects, rather than functions and logic. It uses concepts like classes, objects, inheritance, encapsulation, abstraction, and polymorphism to model real-world entities and their interactions."
      ],
      "metadata": {
        "id": "eDeorOoaoZQq"
      }
    },
    {
      "cell_type": "markdown",
      "source": [
        "2. What is a class in OOP?\n",
        "-> A class is a blueprint or template for creating objects. It defines the structure and behavior of objects, including their attributes (data) and methods (functions). Essentially, a class is a user-defined data type that organizes information and enables code reuse."
      ],
      "metadata": {
        "id": "xVdKWro7okhA"
      }
    },
    {
      "cell_type": "markdown",
      "source": [
        "3. What is an object in OOP?\n",
        "-> an object is a fundamental unit that represents a data entity with specific characteristics and behaviors, much like real-life entities with states and actions. It's essentially an instance of a class, encapsulating data and the functions (methods) that operate on that data."
      ],
      "metadata": {
        "id": "jD5az9Ozpqry"
      }
    },
    {
      "cell_type": "markdown",
      "source": [
        "4. What is the difference between abstraction and encapsulation?\n",
        "-> Abstraction focuses on presenting only the essential features of an object, hiding complex implementation details. Encapsulation, on the other hand, bundles data and the methods that operate on that data, restricting direct access to protect data integrity. Abstraction deals with design-level decisions, while encapsulation addresses implementation."
      ],
      "metadata": {
        "id": "w6X-Gxj3pzmP"
      }
    },
    {
      "cell_type": "markdown",
      "source": [
        "5. What are dunder methods in Python?\n",
        "-> Dunder methods, also known as magic methods, are special methods in Python that begin and end with double underscores (e.g., __init__, __str__, __len__). They allow classes to define how they interact with built-in functions and operators. Dunder is short for \"double underscore.\" These methods enable operator overloading, customization of object behavior, and integration with Python's data model."
      ],
      "metadata": {
        "id": "wiMEMj0iswiP"
      }
    },
    {
      "cell_type": "markdown",
      "source": [
        "6.  Explain the concept of inheritance in OOP.\n",
        "-> Inheritance in object-oriented programming is a mechanism where a new class (subclass or child class) can inherit properties and methods from an existing class (superclass or parent class). This enables code reuse and creates a hierarchical relationship between classes, where subclasses can extend or modify the behavior of their parent class."
      ],
      "metadata": {
        "id": "6liCgWgWs-vl"
      }
    },
    {
      "cell_type": "markdown",
      "source": [
        "7. What is polymorphism in OOP?\n",
        "-> In Object-Oriented Programming (OOP), polymorphism allows objects of different classes to be treated as objects of a common type, enabling flexible and reusable code. It essentially means \"many forms,\" allowing the same method name to be used for different actions depending on the object type. This is achieved through techniques like inheritance and method overriding, allowing subclasses to provide their own specialized implementations of inherited methods."
      ],
      "metadata": {
        "id": "At7mlssztHm4"
      }
    },
    {
      "cell_type": "markdown",
      "source": [
        "8. How is encapsulation achieved in Python?\n",
        "-> Encapsulation in Python is achieved by restricting access to attributes and methods, preventing accidental modification and ensuring data integrity. It is implemented through access modifiers, primarily using naming conventions with underscores.\n",
        "\n",
        "Public Attributes: Accessible from anywhere. They are declared without any prefix.\n",
        "\n",
        "Protected Attributes: Intended for internal use within the class and its subclasses. They are prefixed with a single underscore _.\n",
        "\n",
        "Private Attributes: Meant to be inaccessible from outside the class. They are prefixed with a double underscore_."
      ],
      "metadata": {
        "id": "ESasI8dCtonj"
      }
    },
    {
      "cell_type": "markdown",
      "source": [
        "9. What is a constructor in Python?\n",
        "-> A constructor in Python is a special method within a class that initializes the attributes of an object when the object is created. It is automatically called when an instance of the class is instantiated. The primary purpose of a constructor is to set up the initial state of an object by assigning values to its attributes. In Python, the constructor method is named __init__."
      ],
      "metadata": {
        "id": "u232ylHguEkX"
      }
    },
    {
      "cell_type": "markdown",
      "source": [
        "10. What are class and static methods in Python?\n",
        "-> Class methods and static methods are special types of methods in Python classes that differ in how they are called and what arguments they receive.\n",
        "\n",
        "**Class Methods**\n",
        "\n",
        "Class methods are bound to the class and not the instance of the class. They receive the class itself as the first argument, conventionally named cls. This allows them to access and modify class-level attributes. Class methods are defined using the @classmethod decorator.\n",
        "\n",
        "**Static Methods**\n",
        "\n",
        "Static methods are not bound to either the class or the instance. They are essentially regular functions that are placed within the class namespace. They do not receive any special first argument. Static methods are defined using the @staticmethod decorator."
      ],
      "metadata": {
        "id": "r4BR8U_buPLy"
      }
    },
    {
      "cell_type": "markdown",
      "source": [
        "11. What is method overloading in Python?\n",
        "-> Method overloading in Python refers to the ability to define multiple methods in a class with the same name but with different parameters. However, unlike some other programming languages like Java or C++, Python does not support traditional method overloading directly. In Python, if you define multiple methods with the same name in a class, the last defined method will override any previous definitions."
      ],
      "metadata": {
        "id": "8eMZ0N5vupZE"
      }
    },
    {
      "cell_type": "markdown",
      "source": [
        "12. What is method overriding in OOP?\n",
        "-> Method overriding, in object-oriented programming, is a language feature that allows a subclass or child class to provide a specific implementation of a method that is already provided by one of its superclasses or parent classes."
      ],
      "metadata": {
        "id": "mY2SIAByu1C4"
      }
    },
    {
      "cell_type": "markdown",
      "source": [
        "13. What is a property decorator in Python?\n",
        "-> In Python, a property decorator is a built-in feature that allows methods to be accessed like attributes. It provides a way to encapsulate the logic for getting, setting, and deleting an attribute within a class, while still allowing access to it using the dot notation. This enables more controlled and flexible attribute management.\n",
        "\n",
        "The @property decorator is used to define the \"getter\" method, which is called when the attribute is accessed. Additionally, @<attribute>.setter and @<attribute>.deleter decorators can be used to define the \"setter\" and \"deleter\" methods, respectively, which are called when the attribute is assigned a value or deleted."
      ],
      "metadata": {
        "id": "-6zh8PHSu_bO"
      }
    },
    {
      "cell_type": "markdown",
      "source": [
        "14. Why is polymorphism important in OOP?\n",
        "-> olymorphism is crucial in Object-Oriented Programming (OOP) because it enables objects of different classes to be treated as objects of a common type, promoting code reusability, flexibility, and maintainability. It allows for a single interface to be used for different operations, while each class can implement it in its own specific way."
      ],
      "metadata": {
        "id": "JOZ9VUL8vMVA"
      }
    },
    {
      "cell_type": "markdown",
      "source": [
        "15. What is an abstract class in Python?\n",
        "-> An abstract class in Python is a class that cannot be instantiated directly and serves as a blueprint for other classes. It defines a common interface for a group of related classes, ensuring that subclasses implement specific methods. Abstract classes are created using the abc (Abstract Base Classes) module and can contain abstract methods, which are declared but lack implementation in the abstract class. Subclasses are required to provide concrete implementations for these abstract methods."
      ],
      "metadata": {
        "id": "v3lpuH6PvVGA"
      }
    },
    {
      "cell_type": "markdown",
      "source": [
        "16. What are the advantages of OOP?\n",
        "-> Object-Oriented Programming (OOP) offers several advantages, primarily enhancing code organization, reusability, and maintainability. Key benefits include modularity, code reuse through inheritance, flexibility with polymorphism, and simplified problem-solving. These advantages make OOP particularly useful for developing large, complex software systems."
      ],
      "metadata": {
        "id": "Kk4aWhyt6SGB"
      }
    },
    {
      "cell_type": "markdown",
      "source": [
        "17. What is the difference between a class variable and an instance variable?\n",
        "-> The key difference between a class variable (also known as a static variable) and an instance variable is their scope and how they are shared. Class variables are shared across all instances of a class, meaning they have only one copy regardless of how many objects are created from that class. Instance variables, on the other hand, are unique to each instance of the class, with each object having its own separate copy."
      ],
      "metadata": {
        "id": "wGr2c0Zo6bBs"
      }
    },
    {
      "cell_type": "markdown",
      "source": [
        "18. What is multiple inheritance in Python?\n",
        "-> Multiple inheritance in Python is a feature that allows a class to inherit attributes and methods from more than one parent class. This means that a child class can inherit and combine functionalities from multiple independent classes, promoting code reuse and flexibility in designing complex class hierarchies."
      ],
      "metadata": {
        "id": "0RqqZ0c26kA1"
      }
    },
    {
      "cell_type": "markdown",
      "source": [
        "19. Explain the purpose of ‘’__str__’ and ‘__repr__’ ‘ methods in Python.\n",
        "-> The __str__ and __repr__ methods in Python are special methods used to define how objects are represented as strings. They are crucial for providing meaningful and informative string representations of objects, especially when debugging or displaying information to users.\n",
        "\n",
        "__str__: This method returns a user-friendly, informal string representation of an object. It is called by the built-in str() function and implicitly when using print() on an object. The goal of __str__ is readability, providing a clear and concise description of the object's state for end users.\n",
        "\n",
        "__repr__: This method returns a more detailed, unambiguous string representation of an object, primarily intended for developers and debugging. It is called by the built-in repr() function and in the interactive interpreter. Ideally, the string returned by __repr__ should be a valid Python expression that can be used to recreate the object. If a class defines __repr__ but not __str__, Python will use the __repr__ output as a fallback when str() is called."
      ],
      "metadata": {
        "id": "rroLGmd96rZT"
      }
    },
    {
      "cell_type": "markdown",
      "source": [
        "20. What is the significance of the ‘super()’ function in Python?\n",
        "-> The super() function in Python is used to call methods from a parent class within a child class, enabling code reuse and facilitating inheritance. It returns a proxy object, which then allows calling methods of the parent class. This is particularly useful when overriding or extending the functionality of inherited methods."
      ],
      "metadata": {
        "id": "uWwhD0EV64tY"
      }
    },
    {
      "cell_type": "markdown",
      "source": [
        "21.  What is the significance of the __del__ method in Python?\n",
        "-> The __del__ method, also known as a destructor, in Python is called when an object is about to be destroyed. It provides an opportunity to perform cleanup actions, such as releasing external resources or finalizing operations, before the object's memory is reclaimed."
      ],
      "metadata": {
        "id": "_SyK_K5L7Efp"
      }
    },
    {
      "cell_type": "markdown",
      "source": [
        "22. H What is the difference between @staticmethod and @classmethod in Python?\n",
        "-> The distinction between @staticmethod and @classmethod in Python lies in their interaction with the class and its instances:\n",
        "\n",
        "@staticmethod:\n",
        "\n",
        "It is a function defined within a class but doesn't receive the class or instance as an implicit first argument.\n",
        "It behaves like a regular function, isolated within the class's namespace.\n",
        "It cannot access or modify class or instance attributes directly.\n",
        "It is suitable for utility functions logically related to the class but not dependent on its state.\n",
        "\n",
        "@classmethod:\n",
        "\n",
        "It receives the class itself as the first argument, conventionally named cls.\n",
        "It can access and modify class attributes.\n",
        "It cannot directly access instance attributes.\n",
        "It is useful for alternative constructors, factory methods, or operations involving the class as a whole."
      ],
      "metadata": {
        "id": "j1ySvn2-7NGo"
      }
    },
    {
      "cell_type": "markdown",
      "source": [
        "23. How does polymorphism work in Python with inheritance?\n",
        "-> Polymorphism, meaning \"many forms,\" enables objects of different classes to respond to the same method call in their own specific ways. When combined with inheritance in Python, polymorphism allows subclasses to override methods of their parent class, thus providing specialized implementations while maintaining a common interface. This is achieved through method overriding, where a subclass redefines a method already defined in its superclass."
      ],
      "metadata": {
        "id": "0CwKjgwL7b3f"
      }
    },
    {
      "cell_type": "markdown",
      "source": [
        "24.  What is method chaining in Python OOP?\n",
        "-> Method chaining in Python is a programming technique used in object-oriented programming where multiple methods are called sequentially on the same object in a single statement. This is achieved by having each method return the object instance (self) after performing its operation. This allows for a concise and readable way to perform a series of actions on an object."
      ],
      "metadata": {
        "id": "wJKuPV6m7xhq"
      }
    },
    {
      "cell_type": "markdown",
      "source": [
        "25. What is the purpose of the __call__ method in Python?\n",
        "-> The __call__ method in Python enables instances of a class to be called like regular functions. When a class defines the __call__ method, its instances become callable objects. This means that you can apply the function call syntax () directly to an instance of the class, triggering the execution of the code defined within the __call__ method."
      ],
      "metadata": {
        "id": "00wV90LR779B"
      }
    },
    {
      "cell_type": "markdown",
      "source": [
        "# **OOPS PRACTICAL QUESTION**"
      ],
      "metadata": {
        "id": "_hk2G5a78E4Y"
      }
    },
    {
      "cell_type": "markdown",
      "source": [
        "1.  Create a parent class Animal with a method speak() that prints a generic message. Create a child class Dog\n",
        "that overrides the speak() method to print \"Bark!\"."
      ],
      "metadata": {
        "id": "BMrrBuZP8Rjv"
      }
    },
    {
      "cell_type": "code",
      "source": [
        "class Animal:\n",
        "    def speak(self):\n",
        "        print(\"The animal makes a sound.\")\n",
        "\n",
        "class Dog(Animal):\n",
        "    def speak(self):\n",
        "        print(\"Bark!\")\n",
        "\n",
        "generic_animal = Animal()\n",
        "generic_animal.speak()\n",
        "\n",
        "my_dog = Dog()\n",
        "my_dog.speak()\n"
      ],
      "metadata": {
        "colab": {
          "base_uri": "https://localhost:8080/"
        },
        "id": "brSg-xfu8XEb",
        "outputId": "010968e3-0c3f-48e4-8091-4c8a7349007c"
      },
      "execution_count": null,
      "outputs": [
        {
          "output_type": "stream",
          "name": "stdout",
          "text": [
            "The animal makes a sound.\n",
            "Bark!\n"
          ]
        }
      ]
    },
    {
      "cell_type": "markdown",
      "source": [
        "2.  Write a program to create an abstract class Shape with a method area(). Derive classes Circle and Rectangle\n",
        "from it and implement the area() method in both."
      ],
      "metadata": {
        "id": "ENN7Hx-p8sPC"
      }
    },
    {
      "cell_type": "code",
      "source": [
        "from abc import ABC, abstractmethod\n",
        "import math\n",
        "\n",
        "# Abstract base class\n",
        "class Shape(ABC):\n",
        "    @abstractmethod\n",
        "    def area(self):\n",
        "        pass\n",
        "\n",
        "# Derived class: Circle\n",
        "class Circle(Shape):\n",
        "    def __init__(self, radius):\n",
        "        self.radius = radius\n",
        "\n",
        "    def area(self):\n",
        "        return math.pi * self.radius ** 2\n",
        "\n",
        "# Derived class: Rectangle\n",
        "class Rectangle(Shape):\n",
        "    def __init__(self, width, height):\n",
        "        self.width = width\n",
        "        self.height = height\n",
        "\n",
        "    def area(self):\n",
        "        return self.width * self.height\n",
        "\n",
        "# Example usage\n",
        "circle = Circle(5)\n",
        "print(\"Circle area:\", circle.area())  # Output: Circle area: 78.539816\n"
      ],
      "metadata": {
        "colab": {
          "base_uri": "https://localhost:8080/"
        },
        "id": "u2DyPZ1h8vq_",
        "outputId": "3dc095bf-bbae-4309-879a-3604ffe20154"
      },
      "execution_count": null,
      "outputs": [
        {
          "output_type": "stream",
          "name": "stdout",
          "text": [
            "Circle area: 78.53981633974483\n"
          ]
        }
      ]
    },
    {
      "cell_type": "markdown",
      "source": [
        "3.  Implement a multi-level inheritance scenario where a class Vehicle has an attribute type. Derive a class Car\n",
        "and further derive a class ElectricCar that adds a battery attribute."
      ],
      "metadata": {
        "id": "FOCTGlTS87XT"
      }
    },
    {
      "cell_type": "code",
      "source": [
        "# Base class\n",
        "class Vehicle:\n",
        "    def __init__(self, vehicle_type):\n",
        "        self.type = vehicle_type\n",
        "\n",
        "# Derived class from Vehicle\n",
        "class Car(Vehicle):\n",
        "    def __init__(self, vehicle_type, brand):\n",
        "        super().__init__(vehicle_type)\n",
        "        self.brand = brand\n",
        "\n",
        "# Further derived class from Car\n",
        "class ElectricCar(Car):\n",
        "    def __init__(self, vehicle_type, brand, battery_capacity):\n",
        "        super().__init__(vehicle_type, brand)\n",
        "        self.battery = battery_capacity\n",
        "\n",
        "    def display_info(self):\n",
        "        print(f\"Type: {self.type}\")\n",
        "        print(f\"Brand: {self.brand}\")\n",
        "        print(f\"Battery: {self.battery} kWh\")\n",
        "\n",
        "# Example usage\n",
        "my_ev = ElectricCar(\"Electric Vehicle\", \"Tesla\", 75)\n",
        "my_ev.display_info()"
      ],
      "metadata": {
        "colab": {
          "base_uri": "https://localhost:8080/"
        },
        "id": "1Q5hEJ1j9Lb0",
        "outputId": "9f3943a2-9c1d-4dd2-cfba-4048f927722f"
      },
      "execution_count": null,
      "outputs": [
        {
          "output_type": "stream",
          "name": "stdout",
          "text": [
            "Type: Electric Vehicle\n",
            "Brand: Tesla\n",
            "Battery: 75 kWh\n"
          ]
        }
      ]
    },
    {
      "cell_type": "markdown",
      "source": [
        "4.  Demonstrate polymorphism by creating a base class Bird with a method fly(). Create two derived classes\n",
        "Sparrow and Penguin that override the fly() method.\n"
      ],
      "metadata": {
        "id": "a9r7vof99Zin"
      }
    },
    {
      "cell_type": "code",
      "source": [
        "# Base class\n",
        "class Bird:\n",
        "    def fly(self):\n",
        "        print(\"Some birds can fly.\")\n",
        "\n",
        "# Derived class: Sparrow\n",
        "class Sparrow(Bird):\n",
        "    def fly(self):\n",
        "        print(\"Sparrow flies high in the sky.\")\n",
        "\n",
        "# Derived class: Penguin\n",
        "class Penguin(Bird):\n",
        "    def fly(self):\n",
        "        print(\"Penguins cannot fly, but they swim well.\")\n",
        "\n",
        "# Function to demonstrate polymorphism\n",
        "def bird_fly(bird: Bird):\n",
        "    bird.fly()\n",
        "\n",
        "# Example usage\n",
        "sparrow = Sparrow()\n",
        "penguin = Penguin()\n",
        "\n",
        "bird_fly(sparrow)\n",
        "bird_fly(penguin)\n"
      ],
      "metadata": {
        "colab": {
          "base_uri": "https://localhost:8080/"
        },
        "id": "3z977CpK9dBI",
        "outputId": "d99b19ea-080a-4108-abe6-7d07aa33f08d"
      },
      "execution_count": null,
      "outputs": [
        {
          "output_type": "stream",
          "name": "stdout",
          "text": [
            "Sparrow flies high in the sky.\n",
            "Penguins cannot fly, but they swim well.\n"
          ]
        }
      ]
    },
    {
      "cell_type": "markdown",
      "source": [
        "5. Write a program to demonstrate encapsulation by creating a class BankAccount with private attributes\n",
        "balance and methods to deposit, withdraw, and check balance."
      ],
      "metadata": {
        "id": "cm_aq-ZR9o48"
      }
    },
    {
      "cell_type": "code",
      "source": [
        "class BankAccount:\n",
        "    def __init__(self, initial_balance=0):\n",
        "        self.__balance = initial_balance\n",
        "\n",
        "    def deposit(self, amount):\n",
        "        if amount > 0:\n",
        "            self.__balance += amount\n",
        "            print(f\"Deposited: ${amount}\")\n",
        "        else:\n",
        "            print(\"Deposit amount must be positive.\")\n",
        "\n",
        "    def withdraw(self, amount):\n",
        "        if 0 < amount <= self.__balance:\n",
        "            self.__balance -= amount\n",
        "            print(f\"Withdrew: ${amount}\")\n",
        "        else:\n",
        "            print(\"Insufficient balance or invalid amount.\")\n",
        "\n",
        "    def get_balance(self):\n",
        "        print(f\"Current balance: ${self.__balance}\")\n",
        "        return self.__balance\n",
        "\n",
        "# Example usage\n",
        "account = BankAccount(100)\n",
        "account.deposit(50)\n",
        "account.withdraw(30)\n",
        "account.get_balance()"
      ],
      "metadata": {
        "colab": {
          "base_uri": "https://localhost:8080/"
        },
        "id": "N0Oj2sec9s88",
        "outputId": "e95cbbbf-67cd-4184-e500-b1b88472c946"
      },
      "execution_count": null,
      "outputs": [
        {
          "output_type": "stream",
          "name": "stdout",
          "text": [
            "Deposited: $50\n",
            "Withdrew: $30\n",
            "Current balance: $120\n"
          ]
        },
        {
          "output_type": "execute_result",
          "data": {
            "text/plain": [
              "120"
            ]
          },
          "metadata": {},
          "execution_count": 6
        }
      ]
    },
    {
      "cell_type": "markdown",
      "source": [
        "6.  Demonstrate runtime polymorphism using a method play() in a base class Instrument. Derive classes Guitar\n",
        "and Piano that implement their own version of play()."
      ],
      "metadata": {
        "id": "i5OInih297W5"
      }
    },
    {
      "cell_type": "code",
      "source": [
        "# Base class\n",
        "class Instrument:\n",
        "    def play(self):\n",
        "        print(\"Playing an instrument.\")\n",
        "\n",
        "# Derived class: Guitar\n",
        "class Guitar(Instrument):\n",
        "    def play(self):\n",
        "        print(\"Strumming the guitar.\")\n",
        "\n",
        "# Derived class: Piano\n",
        "class Piano(Instrument):\n",
        "    def play(self):\n",
        "        print(\"Playing the piano.\")\n",
        "\n",
        "# Function to demonstrate runtime polymorphism\n",
        "def perform(instrument: Instrument):\n",
        "    instrument.play()\n",
        "\n",
        "# Example usage\n",
        "guitar = Guitar()\n",
        "piano = Piano()\n",
        "\n",
        "perform(guitar)\n",
        "perform(piano)\n"
      ],
      "metadata": {
        "colab": {
          "base_uri": "https://localhost:8080/"
        },
        "id": "PZ9qGRfG9-0N",
        "outputId": "431239be-25f7-45e1-98e3-1dfc8a4729b4"
      },
      "execution_count": null,
      "outputs": [
        {
          "output_type": "stream",
          "name": "stdout",
          "text": [
            "Strumming the guitar.\n",
            "Playing the piano.\n"
          ]
        }
      ]
    },
    {
      "cell_type": "markdown",
      "source": [
        "7.  Create a class MathOperations with a class method add_numbers() to add two numbers and a static\n",
        "method subtract_numbers() to subtract two numbers."
      ],
      "metadata": {
        "id": "TJTQ2JuI-G6V"
      }
    },
    {
      "cell_type": "code",
      "source": [
        "class MathOperations:\n",
        "    @classmethod\n",
        "    def add_numbers(cls, a, b):\n",
        "        return a + b\n",
        "\n",
        "    @staticmethod\n",
        "    def subtract_numbers(a, b):\n",
        "        return a - b\n",
        "\n",
        "# Example usage\n",
        "sum_result = MathOperations.add_numbers(10, 5)\n",
        "print(\"Sum:\", sum_result)\n",
        "\n",
        "diff_result = MathOperations.subtract_numbers(10, 5)\n",
        "print(\"Difference:\", diff_result)\n"
      ],
      "metadata": {
        "colab": {
          "base_uri": "https://localhost:8080/"
        },
        "id": "7zXend50-RR0",
        "outputId": "bcab46a7-808d-416b-8e81-6d3695d581f9"
      },
      "execution_count": null,
      "outputs": [
        {
          "output_type": "stream",
          "name": "stdout",
          "text": [
            "Sum: 15\n",
            "Difference: 5\n"
          ]
        }
      ]
    },
    {
      "cell_type": "markdown",
      "source": [
        "8.  Implement a class Person with a class method to count the total number of persons created."
      ],
      "metadata": {
        "id": "JCUEsWVG-VTN"
      }
    },
    {
      "cell_type": "code",
      "source": [
        "class Person:\n",
        "    _count = 0  # Class-level private variable to track person count\n",
        "\n",
        "    def __init__(self, name):\n",
        "        self.name = name\n",
        "        Person._count += 1\n",
        "\n",
        "    @classmethod\n",
        "    def total_persons(cls):\n",
        "        return cls._count\n",
        "\n",
        "# Example usage\n",
        "p1 = Person(\"Alice\")\n",
        "p2 = Person(\"Bob\")\n",
        "p3 = Person(\"Charlie\")\n",
        "\n",
        "print(\"Total persons created:\", Person.total_persons())\n"
      ],
      "metadata": {
        "colab": {
          "base_uri": "https://localhost:8080/"
        },
        "id": "YrSy1bFN-ZbC",
        "outputId": "c7a6c42a-8b16-440f-f78c-a8ec3de7687a"
      },
      "execution_count": null,
      "outputs": [
        {
          "output_type": "stream",
          "name": "stdout",
          "text": [
            "Total persons created: 3\n"
          ]
        }
      ]
    },
    {
      "cell_type": "markdown",
      "source": [
        "9.  Write a class Fraction with attributes numerator and denominator. Override the str method to display the\n",
        "fraction as \"numerator/denominator\"."
      ],
      "metadata": {
        "id": "cWhCR8k6cwx7"
      }
    },
    {
      "cell_type": "code",
      "source": [
        "class Fraction:\n",
        "    def __init__(self, numerator, denominator):\n",
        "        self.numerator = numerator\n",
        "        if denominator == 0:\n",
        "            raise ValueError(\"Denominator cannot be zero.\")\n",
        "        self.denominator = denominator\n",
        "\n",
        "    def __str__(self):\n",
        "        return f\"{self.numerator}/{self.denominator}\"\n",
        "f = Fraction(3, 4)\n",
        "print(f)\n"
      ],
      "metadata": {
        "colab": {
          "base_uri": "https://localhost:8080/"
        },
        "id": "ScPENQoYc1t-",
        "outputId": "c144eafe-ae24-42ff-d2a5-b511c9b51efb"
      },
      "execution_count": 7,
      "outputs": [
        {
          "output_type": "stream",
          "name": "stdout",
          "text": [
            "3/4\n"
          ]
        }
      ]
    },
    {
      "cell_type": "markdown",
      "source": [
        "10.  Demonstrate operator overloading by creating a class Vector and overriding the add method to add two\n",
        "vectors."
      ],
      "metadata": {
        "id": "s8sTUu9BdB7S"
      }
    },
    {
      "cell_type": "code",
      "source": [
        "class Vector:\n",
        "    def __init__(self, x, y):\n",
        "        self.x = x\n",
        "        self.y = y\n",
        "\n",
        "    def __add__(self, other):\n",
        "        if not isinstance(other, Vector):\n",
        "            raise TypeError(\"Operands must be of type Vector\")\n",
        "        return Vector(self.x + other.x, self.y + other.y)\n",
        "\n",
        "    def __str__(self):\n",
        "        return f\"({self.x}, {self.y})\"\n",
        "v1 = Vector(2, 3)\n",
        "v2 = Vector(4, 1)\n",
        "v3 = v1 + v2\n",
        "\n",
        "print(\"v1:\", v1)\n",
        "print(\"v2:\", v2)\n",
        "print(\"v1 + v2 =\", v3)\n"
      ],
      "metadata": {
        "colab": {
          "base_uri": "https://localhost:8080/"
        },
        "id": "BY__1MMAdGLE",
        "outputId": "8c96d1d5-ac1b-42cd-ab26-48a7be679d11"
      },
      "execution_count": 6,
      "outputs": [
        {
          "output_type": "stream",
          "name": "stdout",
          "text": [
            "v1: (2, 3)\n",
            "v2: (4, 1)\n",
            "v1 + v2 = (6, 4)\n"
          ]
        }
      ]
    },
    {
      "cell_type": "markdown",
      "source": [
        "11.  Create a class Person with attributes name and age. Add a method greet() that prints \"Hello, my name is\n",
        "{name} and I am {age} years old.\""
      ],
      "metadata": {
        "id": "LY2sMMsDdLSc"
      }
    },
    {
      "cell_type": "code",
      "source": [
        "class Person:\n",
        "    def __init__(self, name, age):\n",
        "        self.name = name\n",
        "        self.age = age\n",
        "\n",
        "    def greet(self):\n",
        "        print(f\"Hello, my name is {self.name} and I am {self.age} years old.\")\n",
        "\n",
        "p = Person(\"Alice\", 30)\n",
        "p.greet()\n",
        "\n"
      ],
      "metadata": {
        "colab": {
          "base_uri": "https://localhost:8080/"
        },
        "id": "HBJZhBnedO8i",
        "outputId": "6182f65c-6864-4672-e0e9-d668ba712c61"
      },
      "execution_count": 5,
      "outputs": [
        {
          "output_type": "stream",
          "name": "stdout",
          "text": [
            "Hello, my name is Alice and I am 30 years old.\n"
          ]
        }
      ]
    },
    {
      "cell_type": "markdown",
      "source": [
        "12.  Implement a class Student with attributes name and grades. Create a method average_grade() to compute\n",
        "the average of the grades."
      ],
      "metadata": {
        "id": "EmQ5OqCTdX34"
      }
    },
    {
      "cell_type": "code",
      "source": [
        "class Student:\n",
        "    def __init__(self, name, grades):\n",
        "        self.name = name\n",
        "        self.grades = grades  # grades should be a list of numbers\n",
        "\n",
        "    def average_grade(self):\n",
        "        if not self.grades:\n",
        "            return 0\n",
        "        return sum(self.grades) / len(self.grades)\n",
        "s = Student(\"John\", [85, 90, 78, 92])\n",
        "print(f\"{s.name}'s average grade is {s.average_grade():.2f}\")\n",
        "\n"
      ],
      "metadata": {
        "colab": {
          "base_uri": "https://localhost:8080/"
        },
        "id": "bXlmXANgdkC0",
        "outputId": "9ed7924d-7b34-40f5-8000-7c7eb23e3eaa"
      },
      "execution_count": 4,
      "outputs": [
        {
          "output_type": "stream",
          "name": "stdout",
          "text": [
            "John's average grade is 86.25\n"
          ]
        }
      ]
    },
    {
      "cell_type": "markdown",
      "source": [
        "13. Create a class Rectangle with methods set_dimensions() to set the dimensions and area() to calculate the\n",
        "area."
      ],
      "metadata": {
        "id": "uVb0eodKePmp"
      }
    },
    {
      "cell_type": "code",
      "source": [
        "class Rectangle:\n",
        "    def __init__(self):\n",
        "        self.width = 0\n",
        "        self.height = 0\n",
        "\n",
        "    def set_dimensions(self, width, height):\n",
        "        self.width = width\n",
        "        self.height = height\n",
        "\n",
        "    def area(self):\n",
        "        return self.width * self.height\n",
        "r = Rectangle()\n",
        "r.set_dimensions(5, 10)\n",
        "print(f\"The area of the rectangle is: {r.area()}\")\n",
        "\n"
      ],
      "metadata": {
        "colab": {
          "base_uri": "https://localhost:8080/"
        },
        "id": "YVO490UjeT1p",
        "outputId": "f4008633-02aa-4309-fb48-ad9a886e6c9b"
      },
      "execution_count": 8,
      "outputs": [
        {
          "output_type": "stream",
          "name": "stdout",
          "text": [
            "The area of the rectangle is: 50\n"
          ]
        }
      ]
    },
    {
      "cell_type": "markdown",
      "source": [
        "14. Create a class Employee with a method calculate_salary() that computes the salary based on hours worked\n",
        "and hourly rate. Create a derived class Manager that adds a bonus to the salary."
      ],
      "metadata": {
        "id": "4O2OJE68echu"
      }
    },
    {
      "cell_type": "code",
      "source": [
        "# Base class\n",
        "class Employee:\n",
        "    def __init__(self, name, hours_worked, hourly_rate):\n",
        "        self.name = name\n",
        "        self.hours_worked = hours_worked\n",
        "        self.hourly_rate = hourly_rate\n",
        "\n",
        "    def calculate_salary(self):\n",
        "        return self.hours_worked * self.hourly_rate\n",
        "\n",
        "# Derived class\n",
        "class Manager(Employee):\n",
        "    def __init__(self, name, hours_worked, hourly_rate, bonus):\n",
        "        super().__init__(name, hours_worked, hourly_rate)\n",
        "        self.bonus = bonus\n",
        "\n",
        "    def calculate_salary(self):\n",
        "        base_salary = super().calculate_salary()\n",
        "        return base_salary + self.bonus\n",
        "e = Employee(\"Alice\", 40, 25)\n",
        "print(f\"{e.name}'s salary: ${e.calculate_salary()}\")\n",
        "\n",
        "m = Manager(\"Bob\", 40, 30, 500)\n",
        "print(f\"{m.name}'s salary with bonus: ${m.calculate_salary()}\")\n"
      ],
      "metadata": {
        "colab": {
          "base_uri": "https://localhost:8080/"
        },
        "id": "EDDMa-ategbp",
        "outputId": "e3b1f6ad-3f8e-4224-f87c-a730425d65ef"
      },
      "execution_count": 9,
      "outputs": [
        {
          "output_type": "stream",
          "name": "stdout",
          "text": [
            "Alice's salary: $1000\n",
            "Bob's salary with bonus: $1700\n"
          ]
        }
      ]
    },
    {
      "cell_type": "markdown",
      "source": [
        "15.  Create a class Product with attributes name, price, and quantity. Implement a method total_price() that\n",
        "calculates the total price of the product."
      ],
      "metadata": {
        "id": "g9UNqloberZs"
      }
    },
    {
      "cell_type": "code",
      "source": [
        "class Product:\n",
        "    def __init__(self, name, price, quantity):\n",
        "        self.name = name\n",
        "        self.price = price\n",
        "        self.quantity = quantity\n",
        "\n",
        "    def total_price(self):\n",
        "        return self.price * self.quantity\n",
        "p = Product(\"Laptop\", 1000, 3)\n",
        "print(f\"Total price for {p.quantity} {p.name}(s): ${p.total_price()}\")\n",
        "\n"
      ],
      "metadata": {
        "colab": {
          "base_uri": "https://localhost:8080/"
        },
        "id": "KBtpMmF8exqa",
        "outputId": "31c25ce3-6f67-4361-b68e-88d7a2cf0a8e"
      },
      "execution_count": 10,
      "outputs": [
        {
          "output_type": "stream",
          "name": "stdout",
          "text": [
            "Total price for 3 Laptop(s): $3000\n"
          ]
        }
      ]
    },
    {
      "cell_type": "markdown",
      "source": [
        "16. Create a class Animal with an abstract method sound(). Create two derived classes Cow and Sheep that\n",
        "implement the sound() method."
      ],
      "metadata": {
        "id": "Ka83obYHfD_2"
      }
    },
    {
      "cell_type": "code",
      "source": [
        "from abc import ABC, abstractmethod\n",
        "\n",
        "# Abstract base class\n",
        "class Animal(ABC):\n",
        "    @abstractmethod\n",
        "    def sound(self):\n",
        "        pass\n",
        "\n",
        "# Derived class Cow\n",
        "class Cow(Animal):\n",
        "    def sound(self):\n",
        "        return \"Moo\"\n",
        "\n",
        "# Derived class Sheep\n",
        "class Sheep(Animal):\n",
        "    def sound(self):\n",
        "        return \"Baa\"\n",
        "cow = Cow()\n",
        "sheep = Sheep()\n",
        "\n",
        "print(\"Cow sound:\", cow.sound())\n",
        "print(\"Sheep sound:\", sheep.sound())\n"
      ],
      "metadata": {
        "colab": {
          "base_uri": "https://localhost:8080/"
        },
        "id": "nuvc_uM_fHsR",
        "outputId": "f633024c-8d2b-4952-86d3-dfc4250f45cd"
      },
      "execution_count": 11,
      "outputs": [
        {
          "output_type": "stream",
          "name": "stdout",
          "text": [
            "Cow sound: Moo\n",
            "Sheep sound: Baa\n"
          ]
        }
      ]
    },
    {
      "cell_type": "markdown",
      "source": [
        "17.  Create a class Book with attributes title, author, and year_published. Add a method get_book_info() that\n",
        "returns a formatted string with the book's details."
      ],
      "metadata": {
        "id": "PkxnwnmqfQ2D"
      }
    },
    {
      "cell_type": "code",
      "source": [
        "class Book:\n",
        "    def __init__(self, title, author, year_published):\n",
        "        self.title = title\n",
        "        self.author = author\n",
        "        self.year_published = year_published\n",
        "\n",
        "    def get_book_info(self):\n",
        "        return f\"'{self.title}' by {self.author}, published in {self.year_published}\"\n",
        "book = Book(\"1984\", \"George Orwell\", 1949)\n",
        "print(book.get_book_info())\n",
        "\n"
      ],
      "metadata": {
        "colab": {
          "base_uri": "https://localhost:8080/"
        },
        "id": "DYJfuwRTfT07",
        "outputId": "1f89ea81-753d-49b7-c9ef-29fd7f017595"
      },
      "execution_count": 12,
      "outputs": [
        {
          "output_type": "stream",
          "name": "stdout",
          "text": [
            "'1984' by George Orwell, published in 1949\n"
          ]
        }
      ]
    },
    {
      "cell_type": "markdown",
      "source": [
        "18.  Create a class House with attributes address and price. Create a derived class Mansion that adds an\n",
        "attribute number_of_rooms."
      ],
      "metadata": {
        "id": "Ik3db_35fbuz"
      }
    },
    {
      "cell_type": "code",
      "source": [
        "# Base class\n",
        "class House:\n",
        "    def __init__(self, address, price):\n",
        "        self.address = address\n",
        "        self.price = price\n",
        "\n",
        "    def get_info(self):\n",
        "        return f\"Address: {self.address}, Price: ${self.price}\"\n",
        "\n",
        "# Derived class\n",
        "class Mansion(House):\n",
        "    def __init__(self, address, price, number_of_rooms):\n",
        "        super().__init__(address, price)\n",
        "        self.number_of_rooms = number_of_rooms\n",
        "\n",
        "    def get_info(self):\n",
        "        return f\"Address: {self.address}, Price: ${self.price}, Number of rooms: {self.number_of_rooms}\"\n",
        "house = House(\"123 Main St\", 250000)\n",
        "print(house.get_info())\n",
        "\n",
        "mansion = Mansion(\"456 Luxury Ln\", 5000000, 10)\n",
        "print(mansion.get_info())\n",
        "\n"
      ],
      "metadata": {
        "colab": {
          "base_uri": "https://localhost:8080/"
        },
        "id": "3pv2E7Vqfe3V",
        "outputId": "c642b3e1-abb1-4a12-adfd-a386a9a070d9"
      },
      "execution_count": 13,
      "outputs": [
        {
          "output_type": "stream",
          "name": "stdout",
          "text": [
            "Address: 123 Main St, Price: $250000\n",
            "Address: 456 Luxury Ln, Price: $5000000, Number of rooms: 10\n"
          ]
        }
      ]
    }
  ]
}